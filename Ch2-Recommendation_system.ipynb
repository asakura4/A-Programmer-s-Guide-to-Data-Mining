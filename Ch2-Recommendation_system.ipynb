{
 "cells": [
  {
   "cell_type": "code",
   "execution_count": 1,
   "metadata": {
    "collapsed": true
   },
   "outputs": [],
   "source": [
    "users = {\"Angelica\": {\"Blues Traveler\": 3.5, \"Broken Bells\": 2.0,\n",
    "                      \"Norah Jones\": 4.5, \"Phoenix\": 5.0,\n",
    "                      \"Slightly Stoopid\": 1.5, \"The Strokes\": 2.5, \"Vampire Weekend\": 2.0},\n",
    "         \"Bill\": {\"Blues Traveler\": 2.0, \"Broken Bells\": 3.5,\n",
    "                  \"Deadmau5\": 4.0, \"Phoenix\": 2.0,\n",
    "                  \"Slightly Stoopid\": 3.5, \"Vampire Weekend\": 3.0},\n",
    "         \"Chan\": {\"Blues Traveler\": 5.0, \"Broken Bells\": 1.0,\n",
    "                  \"Deadmau5\": 1.0, \"Norah Jones\": 3.0,\n",
    "                  \"Phoenix\": 5, \"Slightly Stoopid\": 1.0},\n",
    "         \"Dan\": {\"Blues Traveler\": 3.0, \"Broken Bells\": 4.0,\n",
    "                 \"Deadmau5\": 4.5, \"Phoenix\": 3.0,\n",
    "                 \"Slightly Stoopid\": 4.5, \"The Strokes\": 4.0,\n",
    "                 \"Vampire Weekend\": 2.0},\n",
    "         \"Hailey\": {\"Broken Bells\": 4.0, \"Deadmau5\": 1.0,\n",
    "                    \"Norah Jones\": 4.0, \"The Strokes\": 4.0,\n",
    "                    \"Vampire Weekend\": 1.0},\n",
    "         \"Jordyn\": {\"Broken Bells\": 4.5, \"Deadmau5\": 4.0, \"Norah Jones\": 5.0,\n",
    "                    \"Phoenix\": 5.0, \"Slightly Stoopid\": 4.5,\n",
    "                    \"The Strokes\": 4.0, \"Vampire Weekend\": 4.0},\n",
    "         \"Sam\": {\"Blues Traveler\": 5.0, \"Broken Bells\": 2.0,\n",
    "                 \"Norah Jones\": 3.0, \"Phoenix\": 5.0,\n",
    "                 \"Slightly Stoopid\": 4.0, \"The Strokes\": 5.0},\n",
    "         \"Veronica\": {\"Blues Traveler\": 3.0, \"Norah Jones\": 5.0,\n",
    "                      \"Phoenix\": 4.0, \"Slightly Stoopid\": 2.5,\"The Strokes\": 3.0}\n",
    "         }\n"
   ]
  },
  {
   "cell_type": "code",
   "execution_count": 5,
   "metadata": {
    "collapsed": true
   },
   "outputs": [],
   "source": [
    "def manhattan(rating1, rating2):\n",
    "    distance = 0\n",
    "    for key in rating1:\n",
    "        if key in rating2:\n",
    "            distance += abs(rating1[key] - rating2[key])\n",
    "    return distance\n",
    "\n",
    "def computeNearestNeighbor(username, users):\n",
    "    distances = []\n",
    "    for user in users:\n",
    "        if user != username:\n",
    "            distance = manhattan(users[user], users[username])\n",
    "            distances.append((distance, user))\n",
    "    distances.sort()\n",
    "    return distances"
   ]
  },
  {
   "cell_type": "code",
   "execution_count": 6,
   "metadata": {},
   "outputs": [
    {
     "name": "stdout",
     "output_type": "stream",
     "text": [
      "2.0\n",
      "7.5\n"
     ]
    }
   ],
   "source": [
    "print(manhattan(users['Hailey'], users['Veronica']))\n",
    "\n",
    "print(manhattan(users['Hailey'], users['Jordyn']))"
   ]
  },
  {
   "cell_type": "code",
   "execution_count": 7,
   "metadata": {},
   "outputs": [
    {
     "data": {
      "text/plain": [
       "[(2.0, 'Veronica'),\n",
       " (4.0, 'Chan'),\n",
       " (4.0, 'Sam'),\n",
       " (4.5, 'Dan'),\n",
       " (5.0, 'Angelica'),\n",
       " (5.5, 'Bill'),\n",
       " (7.5, 'Jordyn')]"
      ]
     },
     "execution_count": 7,
     "metadata": {},
     "output_type": "execute_result"
    }
   ],
   "source": [
    "computeNearestNeighbor(\"Hailey\", users)"
   ]
  },
  {
   "cell_type": "code",
   "execution_count": 17,
   "metadata": {
    "collapsed": true
   },
   "outputs": [],
   "source": [
    "def recommend(username, users):\n",
    "    nearest = computeNearestNeighbor(username, users)[0][1]\n",
    "    recommendations = []\n",
    "    userRatings = users[username]\n",
    "    neighborRatings = users[nearest]\n",
    "    for artist in neighborRatings:\n",
    "        if not artist in userRatings:\n",
    "            recommendations.append((artist, neighborRatings[artist]))\n",
    "    return sorted(recommendations, key = lambda x:x[1], reverse = True)"
   ]
  },
  {
   "cell_type": "code",
   "execution_count": 18,
   "metadata": {},
   "outputs": [
    {
     "data": {
      "text/plain": [
       "[('Phoenix', 4.0), ('Blues Traveler', 3.0), ('Slightly Stoopid', 2.5)]"
      ]
     },
     "execution_count": 18,
     "metadata": {},
     "output_type": "execute_result"
    }
   ],
   "source": [
    "recommend('Hailey', users)"
   ]
  },
  {
   "cell_type": "markdown",
   "metadata": {},
   "source": [
    "##  Using minkowski distance to make recommendation"
   ]
  },
  {
   "cell_type": "code",
   "execution_count": 19,
   "metadata": {
    "collapsed": true
   },
   "outputs": [],
   "source": [
    "def minkowski(rating1, rating2, r):\n",
    "    distance = 0\n",
    "    commonRating = False\n",
    "    for key in rating1:\n",
    "        if key in rating2:\n",
    "            distance += pow(abs(rating1[key] - rating2[key]),r)\n",
    "            commonRating = True\n",
    "    if commonRating:\n",
    "        return pow(distance, 1/r)\n",
    "    else:\n",
    "        return 0\n"
   ]
  },
  {
   "cell_type": "code",
   "execution_count": 26,
   "metadata": {},
   "outputs": [
    {
     "name": "stdout",
     "output_type": "stream",
     "text": [
      "1.4142135623730951\n",
      "4.387482193696061\n"
     ]
    }
   ],
   "source": [
    "print(minkowski(users['Hailey'], users['Veronica'],2))\n",
    "\n",
    "print(minkowski(users['Hailey'], users['Jordyn'],2))"
   ]
  },
  {
   "cell_type": "code",
   "execution_count": 29,
   "metadata": {
    "collapsed": true
   },
   "outputs": [],
   "source": [
    "def computeNearestNeighbor2(username, users):\n",
    "    distances = []\n",
    "    for user in users:\n",
    "        if user != username:\n",
    "            distance = minkowski(users[user], users[username],2)\n",
    "            distances.append((distance, user))\n",
    "    distances.sort()\n",
    "    return distances"
   ]
  },
  {
   "cell_type": "code",
   "execution_count": 30,
   "metadata": {},
   "outputs": [
    {
     "data": {
      "text/plain": [
       "[(1.4142135623730951, 'Veronica'),\n",
       " (2.449489742783178, 'Sam'),\n",
       " (2.7386127875258306, 'Angelica'),\n",
       " (3.1622776601683795, 'Chan'),\n",
       " (3.640054944640259, 'Bill'),\n",
       " (3.640054944640259, 'Dan'),\n",
       " (4.387482193696061, 'Jordyn')]"
      ]
     },
     "execution_count": 30,
     "metadata": {},
     "output_type": "execute_result"
    }
   ],
   "source": [
    "computeNearestNeighbor2(\"Hailey\", users)"
   ]
  },
  {
   "cell_type": "code",
   "execution_count": 32,
   "metadata": {
    "collapsed": true
   },
   "outputs": [],
   "source": [
    "def recommend2(username, users):\n",
    "    nearest = computeNearestNeighbor2(username, users)[0][1]\n",
    "    recommendations = []\n",
    "    userRatings = users[username]\n",
    "    neighborRatings = users[nearest]\n",
    "    for artist in neighborRatings:\n",
    "        if not artist in userRatings:\n",
    "            recommendations.append((artist, neighborRatings[artist]))\n",
    "    return sorted(recommendations, key = lambda x:x[1], reverse = True)"
   ]
  },
  {
   "cell_type": "code",
   "execution_count": 33,
   "metadata": {},
   "outputs": [
    {
     "data": {
      "text/plain": [
       "[('Phoenix', 4.0), ('Blues Traveler', 3.0), ('Slightly Stoopid', 2.5)]"
      ]
     },
     "execution_count": 33,
     "metadata": {},
     "output_type": "execute_result"
    }
   ],
   "source": [
    "recommend2('Hailey', users)"
   ]
  },
  {
   "cell_type": "code",
   "execution_count": 38,
   "metadata": {
    "collapsed": true
   },
   "outputs": [],
   "source": [
    "from math import sqrt\n",
    "def pearson(rating1, rating2):\n",
    "    sum_xy, sum_x, sum_y, sum_x2, sum_y2 = 0,0,0,0,0\n",
    "    n = 0\n",
    "    for key in rating1:\n",
    "        if key in rating2:\n",
    "            n += 1\n",
    "            x = rating1[key]\n",
    "            y = rating2[key]\n",
    "            sum_xy += x*y\n",
    "            sum_x += x\n",
    "            sum_y += y\n",
    "            sum_x2 += x**2\n",
    "            sum_y2 += y**2\n",
    "    if n == 0:\n",
    "        return 0\n",
    "    denominator = sqrt(sum_x2 - (sum_x**2)/n) * sqrt(sum_y2 - (sum_y**2)/n)\n",
    "    if denominator == 0:\n",
    "        return 0\n",
    "    else:\n",
    "        return (sum_xy - (sum_x * sum_y)/n)/denominator\n"
   ]
  },
  {
   "cell_type": "code",
   "execution_count": 39,
   "metadata": {},
   "outputs": [
    {
     "data": {
      "text/plain": [
       "-0.9040534990682699"
      ]
     },
     "execution_count": 39,
     "metadata": {},
     "output_type": "execute_result"
    }
   ],
   "source": [
    "pearson(users['Angelica'], users['Bill'])"
   ]
  },
  {
   "cell_type": "markdown",
   "metadata": {},
   "source": [
    "## By k-nearest neighbors \n",
    "   Implement the class of recommendation system\n",
    "   "
   ]
  },
  {
   "cell_type": "code",
   "execution_count": 2,
   "metadata": {
    "collapsed": true
   },
   "outputs": [],
   "source": [
    "from math import sqrt\n",
    "users = {\"Angelica\": {\"Blues Traveler\": 3.5, \"Broken Bells\": 2.0,\n",
    "                      \"Norah Jones\": 4.5, \"Phoenix\": 5.0,\n",
    "                      \"Slightly Stoopid\": 1.5, \"The Strokes\": 2.5, \"Vampire Weekend\": 2.0},\n",
    "         \"Bill\": {\"Blues Traveler\": 2.0, \"Broken Bells\": 3.5,\n",
    "                  \"Deadmau5\": 4.0, \"Phoenix\": 2.0,\n",
    "                  \"Slightly Stoopid\": 3.5, \"Vampire Weekend\": 3.0},\n",
    "         \"Chan\": {\"Blues Traveler\": 5.0, \"Broken Bells\": 1.0,\n",
    "                  \"Deadmau5\": 1.0, \"Norah Jones\": 3.0,\n",
    "                  \"Phoenix\": 5, \"Slightly Stoopid\": 1.0},\n",
    "         \"Dan\": {\"Blues Traveler\": 3.0, \"Broken Bells\": 4.0,\n",
    "                 \"Deadmau5\": 4.5, \"Phoenix\": 3.0,\n",
    "                 \"Slightly Stoopid\": 4.5, \"The Strokes\": 4.0,\n",
    "                 \"Vampire Weekend\": 2.0},\n",
    "         \"Hailey\": {\"Broken Bells\": 4.0, \"Deadmau5\": 1.0,\n",
    "                    \"Norah Jones\": 4.0, \"The Strokes\": 4.0,\n",
    "                    \"Vampire Weekend\": 1.0},\n",
    "         \"Jordyn\": {\"Broken Bells\": 4.5, \"Deadmau5\": 4.0, \"Norah Jones\": 5.0,\n",
    "                    \"Phoenix\": 5.0, \"Slightly Stoopid\": 4.5,\n",
    "                    \"The Strokes\": 4.0, \"Vampire Weekend\": 4.0},\n",
    "         \"Sam\": {\"Blues Traveler\": 5.0, \"Broken Bells\": 2.0,\n",
    "                 \"Norah Jones\": 3.0, \"Phoenix\": 5.0,\n",
    "                 \"Slightly Stoopid\": 4.0, \"The Strokes\": 5.0},\n",
    "         \"Veronica\": {\"Blues Traveler\": 3.0, \"Norah Jones\": 5.0,\n",
    "                      \"Phoenix\": 4.0, \"Slightly Stoopid\": 2.5,\"The Strokes\": 3.0}\n",
    "         }\n"
   ]
  },
  {
   "cell_type": "code",
   "execution_count": 9,
   "metadata": {
    "collapsed": true
   },
   "outputs": [],
   "source": [
    "import codecs\n",
    "class recommender:\n",
    "    def pearson(self, rating1, rating2):\n",
    "        sum_xy, sum_x, sum_y, sum_x2, sum_y2 = 0,0,0,0,0\n",
    "        n = 0\n",
    "        for key in rating1:\n",
    "            if key in rating2:\n",
    "                n += 1\n",
    "                x = rating1[key]\n",
    "                y = rating2[key]\n",
    "                sum_xy += x*y\n",
    "                sum_x += x\n",
    "                sum_y += y\n",
    "                sum_x2 += x**2\n",
    "                sum_y2 += y**2\n",
    "        if n == 0:\n",
    "            return 0\n",
    "        denominator = sqrt(sum_x2 - (sum_x**2)/n) * sqrt(sum_y2 - (sum_y**2)/n)\n",
    "        if denominator == 0:\n",
    "            return 0\n",
    "        else:\n",
    "            return (sum_xy - (sum_x * sum_y)/n)/denominator\n",
    "        \n",
    "    def __init__(self, data, k=1, metric='pearson', n=5):\n",
    "        '''intialize recommender\n",
    "        if data is dictionary, ther recommender is intialized\n",
    "        Fora all other data types of data, no initialization occurs\n",
    "        k is the k value for k nearest neighbor\n",
    "        metirc is which distance formula to use\n",
    "        n is the maximum number of recommendations to make'''\n",
    "        self.k = k\n",
    "        self.n = n\n",
    "        self.username2id = {}\n",
    "        self.userid2name = {}\n",
    "        self.productid2name = {}\n",
    "        # save the name of the metric\n",
    "        self.metric = metric\n",
    "        if self.metric == 'pearson':\n",
    "            self.fn = self.pearson\n",
    "        \n",
    "        if type(data).__name__ =='dict':\n",
    "            self.data = data\n",
    "        \n",
    "    def convertProductID2name(self, id):\n",
    "        \"\"\"give product id number return product name\"\"\"\n",
    "        if id in self.productid2name:\n",
    "            return self.productid2name[id]\n",
    "        else:\n",
    "            return id\n",
    "    \n",
    "    def userRatings(self, id, n):\n",
    "        \"\"\"Return n top ratings for user with id\"\"\"\n",
    "        print (\"Ratings for \" + self.userid2name[id])\n",
    "        ratings = self.data[id]\n",
    "        print(len(ratings))\n",
    "        ratings = list(ratings.items())\n",
    "        ratings = [(self.convertProductID2name(k), v) for (k, v) in ratings]\n",
    "            # finally sort and return\n",
    "        ratings.sort(key=lambda artistTuple: artistTuple[1],\n",
    "        reverse = True)\n",
    "        ratings = ratings[:n]\n",
    "        for rating in ratings:\n",
    "            print(\"%s\\t%i\" % (rating[0], rating[1]))\n",
    "            \n",
    "    def loadBookDB(self, path=''):\n",
    "        \"\"\"loads the BX book dataset\n",
    "        Path is where the BX files are located\"\"\"\n",
    "        self.data = {}\n",
    "        i = 0\n",
    "        head = False\n",
    "        f = codecs.open(path + \"BX-Book-Ratings.csv\", 'r', encoding = \"ISO-8859-1\")\n",
    "        for line in f:\n",
    "            if not head:\n",
    "                head = True\n",
    "                continue\n",
    "            i+=1\n",
    "            #separate line into fields\n",
    "            fields = line.split(';')\n",
    "            user = fields[0].strip('\"')\n",
    "            book = fields[1].strip('\"')\n",
    "            rating = fields[2].strip().strip('\"')\n",
    "            rating = int(rating)\n",
    "            if user in self.data:\n",
    "                currentRatings = self.data[user]\n",
    "            else:\n",
    "                currentRatings = {}\n",
    "            currentRatings[book] = rating\n",
    "            self.data[user] = currentRatings\n",
    "        f.close()\n",
    "        #\n",
    "        # Now load books into self.productid2name\n",
    "        # Books contains isbn, title, and author among other fields\n",
    "        #\n",
    "        f = codecs.open(path + \"BX-Books.csv\", 'r', encoding = \"ISO-8859-1\")\n",
    "        head = False\n",
    "        for line in f:\n",
    "            if not head:\n",
    "                head = True\n",
    "                continue\n",
    "            i += 1\n",
    "            # separate line into fields\n",
    "            fields = line.split(';')\n",
    "            isbn = fields[0].strip('\"')\n",
    "            title = fields[1].strip('\"')\n",
    "            author = fields[2].strip().strip('\"')\n",
    "            title = title + ' by ' + author\n",
    "            self.productid2name[isbn] = title\n",
    "        f.close()\n",
    "        f = codecs.open(path + \"BX-Users.csv\",'r', encoding = \"ISO-8859-1\")\n",
    "        head = False\n",
    "        for line in f:\n",
    "            if not head:\n",
    "                head = True\n",
    "                continue\n",
    "            i += 1\n",
    "            #separate line into fields\n",
    "            fields = line.split(';')\n",
    "            userid = fields[0].strip('\"')\n",
    "            location = fields[1].strip('\"')\n",
    "            if len(fields) > 3:\n",
    "                age = fields[2].strip().strip('\"')\n",
    "            else:\n",
    "                age = 'NULL'\n",
    "            if age != 'NULL':\n",
    "                value = location +' (age:' + age + ')'\n",
    "            else:\n",
    "                value = location\n",
    "            self.userid2name[userid] = value\n",
    "            self.username2id[location] = userid\n",
    "        f.close()\n",
    "        print(i)\n",
    "            \n",
    "\n",
    "            \n",
    "    def computeNearestNeighbor(self, username):\n",
    "        \"\"\"creates a sorted list of users based on their distance to            \n",
    "        username\"\"\"\n",
    "        distances = []\n",
    "        for instance in self.data:\n",
    "            if instance != username:\n",
    "                distance = self.fn(self.data[username],self.data[instance])\n",
    "                distances.append((instance, distance))\n",
    "        # sort based on distance -- closest first\n",
    "        distances.sort(key=lambda artistTuple: artistTuple[1],reverse=True)\n",
    "        return distances\n",
    "    \n",
    "    def recommend(self, user):\n",
    "        recommendations = {}\n",
    "        #get list of users ordered by nearness\n",
    "        nearest = self.computeNearestNeighbor(user)            \n",
    "        # now get the ratings for the user\n",
    "        userRatings = self.data[user]\n",
    "        ##\n",
    "        # determine the total distance\n",
    "        totalDistance = 0.0\n",
    "        for i in range(self.k):\n",
    "            totalDistance += nearest[i][1]\n",
    "        # now iterate through the k nearest neighbors\n",
    "        # accumulating their ratings\n",
    "        for i in range(self.k):\n",
    "            # compute slice of pie\n",
    "            weight = nearest[i][1] / totalDistance\n",
    "            # get the name of the person\n",
    "            name = nearest[i][0]\n",
    "            # get the ratings for this person\n",
    "            neighborRatings = self.data[name]\n",
    "            # get the name of the person\n",
    "            # now find bands neighbor rated that user didn't\n",
    "            for artist in neighborRatings:\n",
    "                if not artist in userRatings:\n",
    "                    if artist not in recommendations:\n",
    "                        recommendations[artist] = (neighborRatings[artist] * weight)\n",
    "                    else:\n",
    "                        recommendations[artist] = (recommendations[artist] +\\\n",
    "                                                   neighborRatings[artist] * weight)\n",
    "        recommendations = list(recommendations.items())\n",
    "        recommendations = [(self.convertProductID2name(k),v) \\\n",
    "                              for (k, v) in recommendations]\n",
    "        # finally sort and return\n",
    "        recommendations.sort(key=lambda x:x[1],reverse =True)\n",
    "        # Return the first n items\n",
    "        return recommendations[:self.n]"
   ]
  },
  {
   "cell_type": "code",
   "execution_count": 10,
   "metadata": {},
   "outputs": [
    {
     "data": {
      "text/plain": [
       "[('Blues Traveler', 5.0)]"
      ]
     },
     "execution_count": 10,
     "metadata": {},
     "output_type": "execute_result"
    }
   ],
   "source": [
    "r = recommender(users)\n",
    "r.recommend('Jordyn')"
   ]
  },
  {
   "cell_type": "code",
   "execution_count": 11,
   "metadata": {},
   "outputs": [
    {
     "name": "stdout",
     "output_type": "stream",
     "text": [
      "1700018\n"
     ]
    }
   ],
   "source": [
    "r.loadBookDB('BX-CSV/')"
   ]
  },
  {
   "cell_type": "code",
   "execution_count": 15,
   "metadata": {},
   "outputs": [
    {
     "data": {
      "text/plain": [
       "[(\"A Swiftly Tilting Planet by Madeleine L'Engle\", 10.0),\n",
       " (\"The Godmother's Apprentice by Elizabeth Ann Scarborough\", 10.0),\n",
       " (\"The Godmother's Web by Elizabeth Ann Scarborough\", 10.0),\n",
       " (\"The Irrational Season (The Crosswicks Journal, Book 3) by Madeleine L'Engle\",\n",
       "  10.0),\n",
       " ('The Girl Who Loved Tom Gordon by Stephen King', 9.0)]"
      ]
     },
     "execution_count": 15,
     "metadata": {},
     "output_type": "execute_result"
    }
   ],
   "source": [
    "r.recommend('171118')"
   ]
  },
  {
   "cell_type": "code",
   "execution_count": 14,
   "metadata": {},
   "outputs": [
    {
     "name": "stdout",
     "output_type": "stream",
     "text": [
      "Ratings for toronto, ontario, canada\n",
      "2421\n",
      "0006479502\t10\n",
      "Time Power: The Revolutionary Time Management System That Can Change Your Professional and Personal by Charles Hobbs\t10\n",
      "Pilgrim at Tinker Creek by Annie Dillard\t10\n",
      "0099430967\t10\n",
      "Just So Stories (Penguin Twentieth-Century Classics) by Rudyard Kipling\t10\n"
     ]
    }
   ],
   "source": [
    "r.userRatings('171118',5)"
   ]
  }
 ],
 "metadata": {
  "kernelspec": {
   "display_name": "Python 3",
   "language": "python",
   "name": "python3"
  },
  "language_info": {
   "codemirror_mode": {
    "name": "ipython",
    "version": 3
   },
   "file_extension": ".py",
   "mimetype": "text/x-python",
   "name": "python",
   "nbconvert_exporter": "python",
   "pygments_lexer": "ipython3",
   "version": "3.6.2"
  }
 },
 "nbformat": 4,
 "nbformat_minor": 2
}
